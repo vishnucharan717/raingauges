{
 "cells": [
  {
   "cell_type": "code",
   "execution_count": 3,
   "metadata": {},
   "outputs": [
    {
     "data": {
      "application/vnd.plotly.v1+json": {
       "config": {
        "plotlyServerURL": "https://plot.ly"
       },
       "data": [
        {
         "mode": "lines+markers",
         "name": "Values",
         "type": "scatter",
         "x": [
          "2023-01-01T00:00:00",
          "2023-01-01T00:15:00",
          "2023-01-01T00:30:00",
          "2023-01-01T00:45:00",
          "2023-01-01T01:00:00",
          "2023-01-01T01:15:00",
          "2023-01-01T01:30:00",
          "2023-01-01T01:45:00",
          "2023-01-01T02:00:00",
          "2023-01-01T02:15:00",
          "2023-01-01T02:30:00",
          "2023-01-01T02:45:00",
          "2023-01-01T03:00:00",
          "2023-01-01T03:15:00",
          "2023-01-01T03:30:00",
          "2023-01-01T03:45:00",
          "2023-01-01T04:00:00",
          "2023-01-01T04:15:00",
          "2023-01-01T04:30:00",
          "2023-01-01T04:45:00",
          "2023-01-01T05:00:00",
          "2023-01-01T05:15:00",
          "2023-01-01T05:30:00",
          "2023-01-01T05:45:00",
          "2023-01-01T06:00:00",
          "2023-01-01T06:15:00",
          "2023-01-01T06:30:00",
          "2023-01-01T06:45:00",
          "2023-01-01T07:00:00",
          "2023-01-01T07:15:00",
          "2023-01-01T07:30:00",
          "2023-01-01T07:45:00",
          "2023-01-01T08:00:00",
          "2023-01-01T08:15:00",
          "2023-01-01T08:30:00",
          "2023-01-01T08:45:00",
          "2023-01-01T09:00:00",
          "2023-01-01T09:15:00",
          "2023-01-01T09:30:00",
          "2023-01-01T09:45:00",
          "2023-01-01T10:00:00",
          "2023-01-01T10:15:00",
          "2023-01-01T10:30:00",
          "2023-01-01T10:45:00",
          "2023-01-01T11:00:00",
          "2023-01-01T11:15:00",
          "2023-01-01T11:30:00",
          "2023-01-01T11:45:00",
          "2023-01-01T12:00:00",
          "2023-01-01T12:15:00",
          "2023-01-01T12:30:00",
          "2023-01-01T12:45:00",
          "2023-01-01T13:00:00",
          "2023-01-01T13:15:00",
          "2023-01-01T13:30:00",
          "2023-01-01T13:45:00",
          "2023-01-01T14:00:00",
          "2023-01-01T14:15:00",
          "2023-01-01T14:30:00",
          "2023-01-01T14:45:00",
          "2023-01-01T15:00:00",
          "2023-01-01T15:15:00",
          "2023-01-01T15:30:00",
          "2023-01-01T15:45:00",
          "2023-01-01T16:00:00",
          "2023-01-01T16:15:00",
          "2023-01-01T16:30:00",
          "2023-01-01T16:45:00",
          "2023-01-01T17:00:00",
          "2023-01-01T17:15:00",
          "2023-01-01T17:30:00",
          "2023-01-01T17:45:00",
          "2023-01-01T18:00:00",
          "2023-01-01T18:15:00",
          "2023-01-01T18:30:00",
          "2023-01-01T18:45:00",
          "2023-01-01T19:00:00",
          "2023-01-01T19:15:00",
          "2023-01-01T19:30:00",
          "2023-01-01T19:45:00",
          "2023-01-01T20:00:00",
          "2023-01-01T20:15:00",
          "2023-01-01T20:30:00",
          "2023-01-01T20:45:00",
          "2023-01-01T21:00:00",
          "2023-01-01T21:15:00",
          "2023-01-01T21:30:00",
          "2023-01-01T21:45:00",
          "2023-01-01T22:00:00",
          "2023-01-01T22:15:00",
          "2023-01-01T22:30:00",
          "2023-01-01T22:45:00",
          "2023-01-01T23:00:00",
          "2023-01-01T23:15:00",
          "2023-01-01T23:30:00",
          "2023-01-01T23:45:00"
         ],
         "y": [
          0.12532186835146164,
          0.2632997656558196,
          0.19781707012585314,
          0.11434121465522962,
          0.11724138252508165,
          0.11878488528133857,
          0.617328779243787,
          0.6954002480339397,
          0.13915578444541066,
          0.5639209895150542,
          0.5466073060009178,
          0.4121157430622244,
          0.8122631716599982,
          0.07381957998110855,
          0.11425597317000291,
          0.9091535425613605,
          0.5612180397094941,
          0.14018163989643728,
          0.6671155900515008,
          0.041684829255705935,
          0.9045352777845014,
          0.7182898435308753,
          0.16259316777802113,
          0.017676428868675043,
          0.9999874077481048,
          0.9878933245492426,
          0.43385875310970456,
          0.06216150056460046,
          0.4328610186859042,
          0.4558306433835766,
          0.3541392873856747,
          0.5442658191174693,
          0.9964119825662658,
          0.3620029883310577,
          0.8134047862163892,
          0.05027873538123817,
          0.39982907134385903,
          0.7880236696738617,
          0.031295472894448784,
          0.5205141915292054,
          0.797630345305124,
          0.7600112015721611,
          0.5435448217502608,
          0.3282656530122935,
          0.6493773583988108,
          0.4180011009142184,
          0.8698372538198725,
          0.6798587491978932,
          0.04043569394533464,
          0.5044776872654779,
          0.8319849898381358,
          0.8212779723676656,
          0.5858158231624471,
          0.08631236929565067,
          0.11342772081883867,
          0.7118344085710105,
          0.7133777491437019,
          0.4846231699640986,
          0.7375859582369765,
          0.25953535146096196,
          0.797816400932483,
          0.4306164183336566,
          0.012209909420729526,
          0.20489364567366986,
          0.6646599329683675,
          0.3207268981432453,
          0.758329507397986,
          0.17186345841173334,
          0.5758876338173272,
          0.9035160236870151,
          0.16469068735489323,
          0.17651248722145096,
          0.4008852130922068,
          0.5814240360756585,
          0.06805048074259434,
          0.7694392372026818,
          0.1741869581850144,
          0.05115653333904335,
          0.677410794393536,
          0.31341858243971954,
          0.32483005863775816,
          0.9102069479895433,
          0.3529347108985502,
          0.43059261582063224,
          0.8121027916792062,
          0.6017062845964423,
          0.38340671496981815,
          0.335656429376915,
          0.8673039539365672,
          0.7273624043959612,
          0.5538053686950274,
          0.7396345349094158,
          0.9273566804030697,
          0.8126989591471714,
          0.6450786603201,
          0.17291478915643443
         ]
        }
       ],
       "layout": {
        "template": {
         "data": {
          "bar": [
           {
            "error_x": {
             "color": "#2a3f5f"
            },
            "error_y": {
             "color": "#2a3f5f"
            },
            "marker": {
             "line": {
              "color": "#E5ECF6",
              "width": 0.5
             },
             "pattern": {
              "fillmode": "overlay",
              "size": 10,
              "solidity": 0.2
             }
            },
            "type": "bar"
           }
          ],
          "barpolar": [
           {
            "marker": {
             "line": {
              "color": "#E5ECF6",
              "width": 0.5
             },
             "pattern": {
              "fillmode": "overlay",
              "size": 10,
              "solidity": 0.2
             }
            },
            "type": "barpolar"
           }
          ],
          "carpet": [
           {
            "aaxis": {
             "endlinecolor": "#2a3f5f",
             "gridcolor": "white",
             "linecolor": "white",
             "minorgridcolor": "white",
             "startlinecolor": "#2a3f5f"
            },
            "baxis": {
             "endlinecolor": "#2a3f5f",
             "gridcolor": "white",
             "linecolor": "white",
             "minorgridcolor": "white",
             "startlinecolor": "#2a3f5f"
            },
            "type": "carpet"
           }
          ],
          "choropleth": [
           {
            "colorbar": {
             "outlinewidth": 0,
             "ticks": ""
            },
            "type": "choropleth"
           }
          ],
          "contour": [
           {
            "colorbar": {
             "outlinewidth": 0,
             "ticks": ""
            },
            "colorscale": [
             [
              0,
              "#0d0887"
             ],
             [
              0.1111111111111111,
              "#46039f"
             ],
             [
              0.2222222222222222,
              "#7201a8"
             ],
             [
              0.3333333333333333,
              "#9c179e"
             ],
             [
              0.4444444444444444,
              "#bd3786"
             ],
             [
              0.5555555555555556,
              "#d8576b"
             ],
             [
              0.6666666666666666,
              "#ed7953"
             ],
             [
              0.7777777777777778,
              "#fb9f3a"
             ],
             [
              0.8888888888888888,
              "#fdca26"
             ],
             [
              1,
              "#f0f921"
             ]
            ],
            "type": "contour"
           }
          ],
          "contourcarpet": [
           {
            "colorbar": {
             "outlinewidth": 0,
             "ticks": ""
            },
            "type": "contourcarpet"
           }
          ],
          "heatmap": [
           {
            "colorbar": {
             "outlinewidth": 0,
             "ticks": ""
            },
            "colorscale": [
             [
              0,
              "#0d0887"
             ],
             [
              0.1111111111111111,
              "#46039f"
             ],
             [
              0.2222222222222222,
              "#7201a8"
             ],
             [
              0.3333333333333333,
              "#9c179e"
             ],
             [
              0.4444444444444444,
              "#bd3786"
             ],
             [
              0.5555555555555556,
              "#d8576b"
             ],
             [
              0.6666666666666666,
              "#ed7953"
             ],
             [
              0.7777777777777778,
              "#fb9f3a"
             ],
             [
              0.8888888888888888,
              "#fdca26"
             ],
             [
              1,
              "#f0f921"
             ]
            ],
            "type": "heatmap"
           }
          ],
          "heatmapgl": [
           {
            "colorbar": {
             "outlinewidth": 0,
             "ticks": ""
            },
            "colorscale": [
             [
              0,
              "#0d0887"
             ],
             [
              0.1111111111111111,
              "#46039f"
             ],
             [
              0.2222222222222222,
              "#7201a8"
             ],
             [
              0.3333333333333333,
              "#9c179e"
             ],
             [
              0.4444444444444444,
              "#bd3786"
             ],
             [
              0.5555555555555556,
              "#d8576b"
             ],
             [
              0.6666666666666666,
              "#ed7953"
             ],
             [
              0.7777777777777778,
              "#fb9f3a"
             ],
             [
              0.8888888888888888,
              "#fdca26"
             ],
             [
              1,
              "#f0f921"
             ]
            ],
            "type": "heatmapgl"
           }
          ],
          "histogram": [
           {
            "marker": {
             "pattern": {
              "fillmode": "overlay",
              "size": 10,
              "solidity": 0.2
             }
            },
            "type": "histogram"
           }
          ],
          "histogram2d": [
           {
            "colorbar": {
             "outlinewidth": 0,
             "ticks": ""
            },
            "colorscale": [
             [
              0,
              "#0d0887"
             ],
             [
              0.1111111111111111,
              "#46039f"
             ],
             [
              0.2222222222222222,
              "#7201a8"
             ],
             [
              0.3333333333333333,
              "#9c179e"
             ],
             [
              0.4444444444444444,
              "#bd3786"
             ],
             [
              0.5555555555555556,
              "#d8576b"
             ],
             [
              0.6666666666666666,
              "#ed7953"
             ],
             [
              0.7777777777777778,
              "#fb9f3a"
             ],
             [
              0.8888888888888888,
              "#fdca26"
             ],
             [
              1,
              "#f0f921"
             ]
            ],
            "type": "histogram2d"
           }
          ],
          "histogram2dcontour": [
           {
            "colorbar": {
             "outlinewidth": 0,
             "ticks": ""
            },
            "colorscale": [
             [
              0,
              "#0d0887"
             ],
             [
              0.1111111111111111,
              "#46039f"
             ],
             [
              0.2222222222222222,
              "#7201a8"
             ],
             [
              0.3333333333333333,
              "#9c179e"
             ],
             [
              0.4444444444444444,
              "#bd3786"
             ],
             [
              0.5555555555555556,
              "#d8576b"
             ],
             [
              0.6666666666666666,
              "#ed7953"
             ],
             [
              0.7777777777777778,
              "#fb9f3a"
             ],
             [
              0.8888888888888888,
              "#fdca26"
             ],
             [
              1,
              "#f0f921"
             ]
            ],
            "type": "histogram2dcontour"
           }
          ],
          "mesh3d": [
           {
            "colorbar": {
             "outlinewidth": 0,
             "ticks": ""
            },
            "type": "mesh3d"
           }
          ],
          "parcoords": [
           {
            "line": {
             "colorbar": {
              "outlinewidth": 0,
              "ticks": ""
             }
            },
            "type": "parcoords"
           }
          ],
          "pie": [
           {
            "automargin": true,
            "type": "pie"
           }
          ],
          "scatter": [
           {
            "fillpattern": {
             "fillmode": "overlay",
             "size": 10,
             "solidity": 0.2
            },
            "type": "scatter"
           }
          ],
          "scatter3d": [
           {
            "line": {
             "colorbar": {
              "outlinewidth": 0,
              "ticks": ""
             }
            },
            "marker": {
             "colorbar": {
              "outlinewidth": 0,
              "ticks": ""
             }
            },
            "type": "scatter3d"
           }
          ],
          "scattercarpet": [
           {
            "marker": {
             "colorbar": {
              "outlinewidth": 0,
              "ticks": ""
             }
            },
            "type": "scattercarpet"
           }
          ],
          "scattergeo": [
           {
            "marker": {
             "colorbar": {
              "outlinewidth": 0,
              "ticks": ""
             }
            },
            "type": "scattergeo"
           }
          ],
          "scattergl": [
           {
            "marker": {
             "colorbar": {
              "outlinewidth": 0,
              "ticks": ""
             }
            },
            "type": "scattergl"
           }
          ],
          "scattermapbox": [
           {
            "marker": {
             "colorbar": {
              "outlinewidth": 0,
              "ticks": ""
             }
            },
            "type": "scattermapbox"
           }
          ],
          "scatterpolar": [
           {
            "marker": {
             "colorbar": {
              "outlinewidth": 0,
              "ticks": ""
             }
            },
            "type": "scatterpolar"
           }
          ],
          "scatterpolargl": [
           {
            "marker": {
             "colorbar": {
              "outlinewidth": 0,
              "ticks": ""
             }
            },
            "type": "scatterpolargl"
           }
          ],
          "scatterternary": [
           {
            "marker": {
             "colorbar": {
              "outlinewidth": 0,
              "ticks": ""
             }
            },
            "type": "scatterternary"
           }
          ],
          "surface": [
           {
            "colorbar": {
             "outlinewidth": 0,
             "ticks": ""
            },
            "colorscale": [
             [
              0,
              "#0d0887"
             ],
             [
              0.1111111111111111,
              "#46039f"
             ],
             [
              0.2222222222222222,
              "#7201a8"
             ],
             [
              0.3333333333333333,
              "#9c179e"
             ],
             [
              0.4444444444444444,
              "#bd3786"
             ],
             [
              0.5555555555555556,
              "#d8576b"
             ],
             [
              0.6666666666666666,
              "#ed7953"
             ],
             [
              0.7777777777777778,
              "#fb9f3a"
             ],
             [
              0.8888888888888888,
              "#fdca26"
             ],
             [
              1,
              "#f0f921"
             ]
            ],
            "type": "surface"
           }
          ],
          "table": [
           {
            "cells": {
             "fill": {
              "color": "#EBF0F8"
             },
             "line": {
              "color": "white"
             }
            },
            "header": {
             "fill": {
              "color": "#C8D4E3"
             },
             "line": {
              "color": "white"
             }
            },
            "type": "table"
           }
          ]
         },
         "layout": {
          "annotationdefaults": {
           "arrowcolor": "#2a3f5f",
           "arrowhead": 0,
           "arrowwidth": 1
          },
          "autotypenumbers": "strict",
          "coloraxis": {
           "colorbar": {
            "outlinewidth": 0,
            "ticks": ""
           }
          },
          "colorscale": {
           "diverging": [
            [
             0,
             "#8e0152"
            ],
            [
             0.1,
             "#c51b7d"
            ],
            [
             0.2,
             "#de77ae"
            ],
            [
             0.3,
             "#f1b6da"
            ],
            [
             0.4,
             "#fde0ef"
            ],
            [
             0.5,
             "#f7f7f7"
            ],
            [
             0.6,
             "#e6f5d0"
            ],
            [
             0.7,
             "#b8e186"
            ],
            [
             0.8,
             "#7fbc41"
            ],
            [
             0.9,
             "#4d9221"
            ],
            [
             1,
             "#276419"
            ]
           ],
           "sequential": [
            [
             0,
             "#0d0887"
            ],
            [
             0.1111111111111111,
             "#46039f"
            ],
            [
             0.2222222222222222,
             "#7201a8"
            ],
            [
             0.3333333333333333,
             "#9c179e"
            ],
            [
             0.4444444444444444,
             "#bd3786"
            ],
            [
             0.5555555555555556,
             "#d8576b"
            ],
            [
             0.6666666666666666,
             "#ed7953"
            ],
            [
             0.7777777777777778,
             "#fb9f3a"
            ],
            [
             0.8888888888888888,
             "#fdca26"
            ],
            [
             1,
             "#f0f921"
            ]
           ],
           "sequentialminus": [
            [
             0,
             "#0d0887"
            ],
            [
             0.1111111111111111,
             "#46039f"
            ],
            [
             0.2222222222222222,
             "#7201a8"
            ],
            [
             0.3333333333333333,
             "#9c179e"
            ],
            [
             0.4444444444444444,
             "#bd3786"
            ],
            [
             0.5555555555555556,
             "#d8576b"
            ],
            [
             0.6666666666666666,
             "#ed7953"
            ],
            [
             0.7777777777777778,
             "#fb9f3a"
            ],
            [
             0.8888888888888888,
             "#fdca26"
            ],
            [
             1,
             "#f0f921"
            ]
           ]
          },
          "colorway": [
           "#636efa",
           "#EF553B",
           "#00cc96",
           "#ab63fa",
           "#FFA15A",
           "#19d3f3",
           "#FF6692",
           "#B6E880",
           "#FF97FF",
           "#FECB52"
          ],
          "font": {
           "color": "#2a3f5f"
          },
          "geo": {
           "bgcolor": "white",
           "lakecolor": "white",
           "landcolor": "#E5ECF6",
           "showlakes": true,
           "showland": true,
           "subunitcolor": "white"
          },
          "hoverlabel": {
           "align": "left"
          },
          "hovermode": "closest",
          "mapbox": {
           "style": "light"
          },
          "paper_bgcolor": "white",
          "plot_bgcolor": "#E5ECF6",
          "polar": {
           "angularaxis": {
            "gridcolor": "white",
            "linecolor": "white",
            "ticks": ""
           },
           "bgcolor": "#E5ECF6",
           "radialaxis": {
            "gridcolor": "white",
            "linecolor": "white",
            "ticks": ""
           }
          },
          "scene": {
           "xaxis": {
            "backgroundcolor": "#E5ECF6",
            "gridcolor": "white",
            "gridwidth": 2,
            "linecolor": "white",
            "showbackground": true,
            "ticks": "",
            "zerolinecolor": "white"
           },
           "yaxis": {
            "backgroundcolor": "#E5ECF6",
            "gridcolor": "white",
            "gridwidth": 2,
            "linecolor": "white",
            "showbackground": true,
            "ticks": "",
            "zerolinecolor": "white"
           },
           "zaxis": {
            "backgroundcolor": "#E5ECF6",
            "gridcolor": "white",
            "gridwidth": 2,
            "linecolor": "white",
            "showbackground": true,
            "ticks": "",
            "zerolinecolor": "white"
           }
          },
          "shapedefaults": {
           "line": {
            "color": "#2a3f5f"
           }
          },
          "ternary": {
           "aaxis": {
            "gridcolor": "white",
            "linecolor": "white",
            "ticks": ""
           },
           "baxis": {
            "gridcolor": "white",
            "linecolor": "white",
            "ticks": ""
           },
           "bgcolor": "#E5ECF6",
           "caxis": {
            "gridcolor": "white",
            "linecolor": "white",
            "ticks": ""
           }
          },
          "title": {
           "x": 0.05
          },
          "xaxis": {
           "automargin": true,
           "gridcolor": "white",
           "linecolor": "white",
           "ticks": "",
           "title": {
            "standoff": 15
           },
           "zerolinecolor": "white",
           "zerolinewidth": 2
          },
          "yaxis": {
           "automargin": true,
           "gridcolor": "white",
           "linecolor": "white",
           "ticks": "",
           "title": {
            "standoff": 15
           },
           "zerolinecolor": "white",
           "zerolinewidth": 2
          }
         }
        },
        "title": {
         "text": "Graph of Values over Time"
        },
        "xaxis": {
         "dtick": 10800000,
         "tickformat": "%Y-%m-%d %H:%M:%S",
         "title": {
          "text": "Timestamp"
         }
        },
        "yaxis": {
         "title": {
          "text": "Value"
         }
        }
       }
      },
      "text/html": [
       "<div>                            <div id=\"dc7e6ab1-353c-460c-b262-203f4ca624ec\" class=\"plotly-graph-div\" style=\"height:525px; width:100%;\"></div>            <script type=\"text/javascript\">                require([\"plotly\"], function(Plotly) {                    window.PLOTLYENV=window.PLOTLYENV || {};                                    if (document.getElementById(\"dc7e6ab1-353c-460c-b262-203f4ca624ec\")) {                    Plotly.newPlot(                        \"dc7e6ab1-353c-460c-b262-203f4ca624ec\",                        [{\"mode\":\"lines+markers\",\"name\":\"Values\",\"x\":[\"2023-01-01T00:00:00\",\"2023-01-01T00:15:00\",\"2023-01-01T00:30:00\",\"2023-01-01T00:45:00\",\"2023-01-01T01:00:00\",\"2023-01-01T01:15:00\",\"2023-01-01T01:30:00\",\"2023-01-01T01:45:00\",\"2023-01-01T02:00:00\",\"2023-01-01T02:15:00\",\"2023-01-01T02:30:00\",\"2023-01-01T02:45:00\",\"2023-01-01T03:00:00\",\"2023-01-01T03:15:00\",\"2023-01-01T03:30:00\",\"2023-01-01T03:45:00\",\"2023-01-01T04:00:00\",\"2023-01-01T04:15:00\",\"2023-01-01T04:30:00\",\"2023-01-01T04:45:00\",\"2023-01-01T05:00:00\",\"2023-01-01T05:15:00\",\"2023-01-01T05:30:00\",\"2023-01-01T05:45:00\",\"2023-01-01T06:00:00\",\"2023-01-01T06:15:00\",\"2023-01-01T06:30:00\",\"2023-01-01T06:45:00\",\"2023-01-01T07:00:00\",\"2023-01-01T07:15:00\",\"2023-01-01T07:30:00\",\"2023-01-01T07:45:00\",\"2023-01-01T08:00:00\",\"2023-01-01T08:15:00\",\"2023-01-01T08:30:00\",\"2023-01-01T08:45:00\",\"2023-01-01T09:00:00\",\"2023-01-01T09:15:00\",\"2023-01-01T09:30:00\",\"2023-01-01T09:45:00\",\"2023-01-01T10:00:00\",\"2023-01-01T10:15:00\",\"2023-01-01T10:30:00\",\"2023-01-01T10:45:00\",\"2023-01-01T11:00:00\",\"2023-01-01T11:15:00\",\"2023-01-01T11:30:00\",\"2023-01-01T11:45:00\",\"2023-01-01T12:00:00\",\"2023-01-01T12:15:00\",\"2023-01-01T12:30:00\",\"2023-01-01T12:45:00\",\"2023-01-01T13:00:00\",\"2023-01-01T13:15:00\",\"2023-01-01T13:30:00\",\"2023-01-01T13:45:00\",\"2023-01-01T14:00:00\",\"2023-01-01T14:15:00\",\"2023-01-01T14:30:00\",\"2023-01-01T14:45:00\",\"2023-01-01T15:00:00\",\"2023-01-01T15:15:00\",\"2023-01-01T15:30:00\",\"2023-01-01T15:45:00\",\"2023-01-01T16:00:00\",\"2023-01-01T16:15:00\",\"2023-01-01T16:30:00\",\"2023-01-01T16:45:00\",\"2023-01-01T17:00:00\",\"2023-01-01T17:15:00\",\"2023-01-01T17:30:00\",\"2023-01-01T17:45:00\",\"2023-01-01T18:00:00\",\"2023-01-01T18:15:00\",\"2023-01-01T18:30:00\",\"2023-01-01T18:45:00\",\"2023-01-01T19:00:00\",\"2023-01-01T19:15:00\",\"2023-01-01T19:30:00\",\"2023-01-01T19:45:00\",\"2023-01-01T20:00:00\",\"2023-01-01T20:15:00\",\"2023-01-01T20:30:00\",\"2023-01-01T20:45:00\",\"2023-01-01T21:00:00\",\"2023-01-01T21:15:00\",\"2023-01-01T21:30:00\",\"2023-01-01T21:45:00\",\"2023-01-01T22:00:00\",\"2023-01-01T22:15:00\",\"2023-01-01T22:30:00\",\"2023-01-01T22:45:00\",\"2023-01-01T23:00:00\",\"2023-01-01T23:15:00\",\"2023-01-01T23:30:00\",\"2023-01-01T23:45:00\"],\"y\":[0.12532186835146164,0.2632997656558196,0.19781707012585314,0.11434121465522962,0.11724138252508165,0.11878488528133857,0.617328779243787,0.6954002480339397,0.13915578444541066,0.5639209895150542,0.5466073060009178,0.4121157430622244,0.8122631716599982,0.07381957998110855,0.11425597317000291,0.9091535425613605,0.5612180397094941,0.14018163989643728,0.6671155900515008,0.041684829255705935,0.9045352777845014,0.7182898435308753,0.16259316777802113,0.017676428868675043,0.9999874077481048,0.9878933245492426,0.43385875310970456,0.06216150056460046,0.4328610186859042,0.4558306433835766,0.3541392873856747,0.5442658191174693,0.9964119825662658,0.3620029883310577,0.8134047862163892,0.05027873538123817,0.39982907134385903,0.7880236696738617,0.031295472894448784,0.5205141915292054,0.797630345305124,0.7600112015721611,0.5435448217502608,0.3282656530122935,0.6493773583988108,0.4180011009142184,0.8698372538198725,0.6798587491978932,0.04043569394533464,0.5044776872654779,0.8319849898381358,0.8212779723676656,0.5858158231624471,0.08631236929565067,0.11342772081883867,0.7118344085710105,0.7133777491437019,0.4846231699640986,0.7375859582369765,0.25953535146096196,0.797816400932483,0.4306164183336566,0.012209909420729526,0.20489364567366986,0.6646599329683675,0.3207268981432453,0.758329507397986,0.17186345841173334,0.5758876338173272,0.9035160236870151,0.16469068735489323,0.17651248722145096,0.4008852130922068,0.5814240360756585,0.06805048074259434,0.7694392372026818,0.1741869581850144,0.05115653333904335,0.677410794393536,0.31341858243971954,0.32483005863775816,0.9102069479895433,0.3529347108985502,0.43059261582063224,0.8121027916792062,0.6017062845964423,0.38340671496981815,0.335656429376915,0.8673039539365672,0.7273624043959612,0.5538053686950274,0.7396345349094158,0.9273566804030697,0.8126989591471714,0.6450786603201,0.17291478915643443],\"type\":\"scatter\"}],                        {\"template\":{\"data\":{\"histogram2dcontour\":[{\"type\":\"histogram2dcontour\",\"colorbar\":{\"outlinewidth\":0,\"ticks\":\"\"},\"colorscale\":[[0.0,\"#0d0887\"],[0.1111111111111111,\"#46039f\"],[0.2222222222222222,\"#7201a8\"],[0.3333333333333333,\"#9c179e\"],[0.4444444444444444,\"#bd3786\"],[0.5555555555555556,\"#d8576b\"],[0.6666666666666666,\"#ed7953\"],[0.7777777777777778,\"#fb9f3a\"],[0.8888888888888888,\"#fdca26\"],[1.0,\"#f0f921\"]]}],\"choropleth\":[{\"type\":\"choropleth\",\"colorbar\":{\"outlinewidth\":0,\"ticks\":\"\"}}],\"histogram2d\":[{\"type\":\"histogram2d\",\"colorbar\":{\"outlinewidth\":0,\"ticks\":\"\"},\"colorscale\":[[0.0,\"#0d0887\"],[0.1111111111111111,\"#46039f\"],[0.2222222222222222,\"#7201a8\"],[0.3333333333333333,\"#9c179e\"],[0.4444444444444444,\"#bd3786\"],[0.5555555555555556,\"#d8576b\"],[0.6666666666666666,\"#ed7953\"],[0.7777777777777778,\"#fb9f3a\"],[0.8888888888888888,\"#fdca26\"],[1.0,\"#f0f921\"]]}],\"heatmap\":[{\"type\":\"heatmap\",\"colorbar\":{\"outlinewidth\":0,\"ticks\":\"\"},\"colorscale\":[[0.0,\"#0d0887\"],[0.1111111111111111,\"#46039f\"],[0.2222222222222222,\"#7201a8\"],[0.3333333333333333,\"#9c179e\"],[0.4444444444444444,\"#bd3786\"],[0.5555555555555556,\"#d8576b\"],[0.6666666666666666,\"#ed7953\"],[0.7777777777777778,\"#fb9f3a\"],[0.8888888888888888,\"#fdca26\"],[1.0,\"#f0f921\"]]}],\"heatmapgl\":[{\"type\":\"heatmapgl\",\"colorbar\":{\"outlinewidth\":0,\"ticks\":\"\"},\"colorscale\":[[0.0,\"#0d0887\"],[0.1111111111111111,\"#46039f\"],[0.2222222222222222,\"#7201a8\"],[0.3333333333333333,\"#9c179e\"],[0.4444444444444444,\"#bd3786\"],[0.5555555555555556,\"#d8576b\"],[0.6666666666666666,\"#ed7953\"],[0.7777777777777778,\"#fb9f3a\"],[0.8888888888888888,\"#fdca26\"],[1.0,\"#f0f921\"]]}],\"contourcarpet\":[{\"type\":\"contourcarpet\",\"colorbar\":{\"outlinewidth\":0,\"ticks\":\"\"}}],\"contour\":[{\"type\":\"contour\",\"colorbar\":{\"outlinewidth\":0,\"ticks\":\"\"},\"colorscale\":[[0.0,\"#0d0887\"],[0.1111111111111111,\"#46039f\"],[0.2222222222222222,\"#7201a8\"],[0.3333333333333333,\"#9c179e\"],[0.4444444444444444,\"#bd3786\"],[0.5555555555555556,\"#d8576b\"],[0.6666666666666666,\"#ed7953\"],[0.7777777777777778,\"#fb9f3a\"],[0.8888888888888888,\"#fdca26\"],[1.0,\"#f0f921\"]]}],\"surface\":[{\"type\":\"surface\",\"colorbar\":{\"outlinewidth\":0,\"ticks\":\"\"},\"colorscale\":[[0.0,\"#0d0887\"],[0.1111111111111111,\"#46039f\"],[0.2222222222222222,\"#7201a8\"],[0.3333333333333333,\"#9c179e\"],[0.4444444444444444,\"#bd3786\"],[0.5555555555555556,\"#d8576b\"],[0.6666666666666666,\"#ed7953\"],[0.7777777777777778,\"#fb9f3a\"],[0.8888888888888888,\"#fdca26\"],[1.0,\"#f0f921\"]]}],\"mesh3d\":[{\"type\":\"mesh3d\",\"colorbar\":{\"outlinewidth\":0,\"ticks\":\"\"}}],\"scatter\":[{\"fillpattern\":{\"fillmode\":\"overlay\",\"size\":10,\"solidity\":0.2},\"type\":\"scatter\"}],\"parcoords\":[{\"type\":\"parcoords\",\"line\":{\"colorbar\":{\"outlinewidth\":0,\"ticks\":\"\"}}}],\"scatterpolargl\":[{\"type\":\"scatterpolargl\",\"marker\":{\"colorbar\":{\"outlinewidth\":0,\"ticks\":\"\"}}}],\"bar\":[{\"error_x\":{\"color\":\"#2a3f5f\"},\"error_y\":{\"color\":\"#2a3f5f\"},\"marker\":{\"line\":{\"color\":\"#E5ECF6\",\"width\":0.5},\"pattern\":{\"fillmode\":\"overlay\",\"size\":10,\"solidity\":0.2}},\"type\":\"bar\"}],\"scattergeo\":[{\"type\":\"scattergeo\",\"marker\":{\"colorbar\":{\"outlinewidth\":0,\"ticks\":\"\"}}}],\"scatterpolar\":[{\"type\":\"scatterpolar\",\"marker\":{\"colorbar\":{\"outlinewidth\":0,\"ticks\":\"\"}}}],\"histogram\":[{\"marker\":{\"pattern\":{\"fillmode\":\"overlay\",\"size\":10,\"solidity\":0.2}},\"type\":\"histogram\"}],\"scattergl\":[{\"type\":\"scattergl\",\"marker\":{\"colorbar\":{\"outlinewidth\":0,\"ticks\":\"\"}}}],\"scatter3d\":[{\"type\":\"scatter3d\",\"line\":{\"colorbar\":{\"outlinewidth\":0,\"ticks\":\"\"}},\"marker\":{\"colorbar\":{\"outlinewidth\":0,\"ticks\":\"\"}}}],\"scattermapbox\":[{\"type\":\"scattermapbox\",\"marker\":{\"colorbar\":{\"outlinewidth\":0,\"ticks\":\"\"}}}],\"scatterternary\":[{\"type\":\"scatterternary\",\"marker\":{\"colorbar\":{\"outlinewidth\":0,\"ticks\":\"\"}}}],\"scattercarpet\":[{\"type\":\"scattercarpet\",\"marker\":{\"colorbar\":{\"outlinewidth\":0,\"ticks\":\"\"}}}],\"carpet\":[{\"aaxis\":{\"endlinecolor\":\"#2a3f5f\",\"gridcolor\":\"white\",\"linecolor\":\"white\",\"minorgridcolor\":\"white\",\"startlinecolor\":\"#2a3f5f\"},\"baxis\":{\"endlinecolor\":\"#2a3f5f\",\"gridcolor\":\"white\",\"linecolor\":\"white\",\"minorgridcolor\":\"white\",\"startlinecolor\":\"#2a3f5f\"},\"type\":\"carpet\"}],\"table\":[{\"cells\":{\"fill\":{\"color\":\"#EBF0F8\"},\"line\":{\"color\":\"white\"}},\"header\":{\"fill\":{\"color\":\"#C8D4E3\"},\"line\":{\"color\":\"white\"}},\"type\":\"table\"}],\"barpolar\":[{\"marker\":{\"line\":{\"color\":\"#E5ECF6\",\"width\":0.5},\"pattern\":{\"fillmode\":\"overlay\",\"size\":10,\"solidity\":0.2}},\"type\":\"barpolar\"}],\"pie\":[{\"automargin\":true,\"type\":\"pie\"}]},\"layout\":{\"autotypenumbers\":\"strict\",\"colorway\":[\"#636efa\",\"#EF553B\",\"#00cc96\",\"#ab63fa\",\"#FFA15A\",\"#19d3f3\",\"#FF6692\",\"#B6E880\",\"#FF97FF\",\"#FECB52\"],\"font\":{\"color\":\"#2a3f5f\"},\"hovermode\":\"closest\",\"hoverlabel\":{\"align\":\"left\"},\"paper_bgcolor\":\"white\",\"plot_bgcolor\":\"#E5ECF6\",\"polar\":{\"bgcolor\":\"#E5ECF6\",\"angularaxis\":{\"gridcolor\":\"white\",\"linecolor\":\"white\",\"ticks\":\"\"},\"radialaxis\":{\"gridcolor\":\"white\",\"linecolor\":\"white\",\"ticks\":\"\"}},\"ternary\":{\"bgcolor\":\"#E5ECF6\",\"aaxis\":{\"gridcolor\":\"white\",\"linecolor\":\"white\",\"ticks\":\"\"},\"baxis\":{\"gridcolor\":\"white\",\"linecolor\":\"white\",\"ticks\":\"\"},\"caxis\":{\"gridcolor\":\"white\",\"linecolor\":\"white\",\"ticks\":\"\"}},\"coloraxis\":{\"colorbar\":{\"outlinewidth\":0,\"ticks\":\"\"}},\"colorscale\":{\"sequential\":[[0.0,\"#0d0887\"],[0.1111111111111111,\"#46039f\"],[0.2222222222222222,\"#7201a8\"],[0.3333333333333333,\"#9c179e\"],[0.4444444444444444,\"#bd3786\"],[0.5555555555555556,\"#d8576b\"],[0.6666666666666666,\"#ed7953\"],[0.7777777777777778,\"#fb9f3a\"],[0.8888888888888888,\"#fdca26\"],[1.0,\"#f0f921\"]],\"sequentialminus\":[[0.0,\"#0d0887\"],[0.1111111111111111,\"#46039f\"],[0.2222222222222222,\"#7201a8\"],[0.3333333333333333,\"#9c179e\"],[0.4444444444444444,\"#bd3786\"],[0.5555555555555556,\"#d8576b\"],[0.6666666666666666,\"#ed7953\"],[0.7777777777777778,\"#fb9f3a\"],[0.8888888888888888,\"#fdca26\"],[1.0,\"#f0f921\"]],\"diverging\":[[0,\"#8e0152\"],[0.1,\"#c51b7d\"],[0.2,\"#de77ae\"],[0.3,\"#f1b6da\"],[0.4,\"#fde0ef\"],[0.5,\"#f7f7f7\"],[0.6,\"#e6f5d0\"],[0.7,\"#b8e186\"],[0.8,\"#7fbc41\"],[0.9,\"#4d9221\"],[1,\"#276419\"]]},\"xaxis\":{\"gridcolor\":\"white\",\"linecolor\":\"white\",\"ticks\":\"\",\"title\":{\"standoff\":15},\"zerolinecolor\":\"white\",\"automargin\":true,\"zerolinewidth\":2},\"yaxis\":{\"gridcolor\":\"white\",\"linecolor\":\"white\",\"ticks\":\"\",\"title\":{\"standoff\":15},\"zerolinecolor\":\"white\",\"automargin\":true,\"zerolinewidth\":2},\"scene\":{\"xaxis\":{\"backgroundcolor\":\"#E5ECF6\",\"gridcolor\":\"white\",\"linecolor\":\"white\",\"showbackground\":true,\"ticks\":\"\",\"zerolinecolor\":\"white\",\"gridwidth\":2},\"yaxis\":{\"backgroundcolor\":\"#E5ECF6\",\"gridcolor\":\"white\",\"linecolor\":\"white\",\"showbackground\":true,\"ticks\":\"\",\"zerolinecolor\":\"white\",\"gridwidth\":2},\"zaxis\":{\"backgroundcolor\":\"#E5ECF6\",\"gridcolor\":\"white\",\"linecolor\":\"white\",\"showbackground\":true,\"ticks\":\"\",\"zerolinecolor\":\"white\",\"gridwidth\":2}},\"shapedefaults\":{\"line\":{\"color\":\"#2a3f5f\"}},\"annotationdefaults\":{\"arrowcolor\":\"#2a3f5f\",\"arrowhead\":0,\"arrowwidth\":1},\"geo\":{\"bgcolor\":\"white\",\"landcolor\":\"#E5ECF6\",\"subunitcolor\":\"white\",\"showland\":true,\"showlakes\":true,\"lakecolor\":\"white\"},\"title\":{\"x\":0.05},\"mapbox\":{\"style\":\"light\"}}},\"xaxis\":{\"title\":{\"text\":\"Timestamp\"},\"tickformat\":\"%Y-%m-%d %H:%M:%S\",\"dtick\":10800000},\"title\":{\"text\":\"Graph of Values over Time\"},\"yaxis\":{\"title\":{\"text\":\"Value\"}}},                        {\"responsive\": true}                    ).then(function(){\n",
       "                            \n",
       "var gd = document.getElementById('dc7e6ab1-353c-460c-b262-203f4ca624ec');\n",
       "var x = new MutationObserver(function (mutations, observer) {{\n",
       "        var display = window.getComputedStyle(gd).display;\n",
       "        if (!display || display === 'none') {{\n",
       "            console.log([gd, 'removed!']);\n",
       "            Plotly.purge(gd);\n",
       "            observer.disconnect();\n",
       "        }}\n",
       "}});\n",
       "\n",
       "// Listen for the removal of the full notebook cells\n",
       "var notebookContainer = gd.closest('#notebook-container');\n",
       "if (notebookContainer) {{\n",
       "    x.observe(notebookContainer, {childList: true});\n",
       "}}\n",
       "\n",
       "// Listen for the clearing of the current output cell\n",
       "var outputEl = gd.closest('.output');\n",
       "if (outputEl) {{\n",
       "    x.observe(outputEl, {childList: true});\n",
       "}}\n",
       "\n",
       "                        })                };                });            </script>        </div>"
      ]
     },
     "metadata": {},
     "output_type": "display_data"
    }
   ],
   "source": [
    "import plotly.graph_objs as go\n",
    "import pandas as pd\n",
    "import numpy as np\n",
    "from datetime import datetime, timedelta\n",
    "\n",
    "# Generate sample data\n",
    "timestamps = pd.date_range(start='2023-01-01', periods=96, freq='15T')\n",
    "values = np.random.random(size=96)\n",
    "\n",
    "# Create a DataFrame\n",
    "df = pd.DataFrame({'Timestamp': timestamps, 'Value': values})\n",
    "\n",
    "# Create the plot\n",
    "fig = go.Figure()\n",
    "\n",
    "# Add a line plot\n",
    "fig.add_trace(go.Scatter(x=df['Timestamp'], y=df['Value'], mode='lines', name='Values'))\n",
    "\n",
    "# Update layout\n",
    "fig.update_layout(\n",
    "    title='Graph of Values over Time',\n",
    "    xaxis_title='Timestamp',\n",
    "    yaxis_title='Value',\n",
    "    xaxis=dict(\n",
    "        tickformat='%Y-%m-%d %H:%M:%S',\n",
    "        dtick=3600000*3  # tick every 3 hours\n",
    "    )\n",
    ")\n",
    "\n",
    "# Show the plot\n",
    "fig.show()\n"
   ]
  },
  {
   "cell_type": "code",
   "execution_count": null,
   "metadata": {},
   "outputs": [],
   "source": []
  }
 ],
 "metadata": {
  "kernelspec": {
   "display_name": "Python 3 (ipykernel)",
   "language": "python",
   "name": "python3"
  },
  "language_info": {
   "codemirror_mode": {
    "name": "ipython",
    "version": 3
   },
   "file_extension": ".py",
   "mimetype": "text/x-python",
   "name": "python",
   "nbconvert_exporter": "python",
   "pygments_lexer": "ipython3",
   "version": "3.11.4"
  }
 },
 "nbformat": 4,
 "nbformat_minor": 2
}
